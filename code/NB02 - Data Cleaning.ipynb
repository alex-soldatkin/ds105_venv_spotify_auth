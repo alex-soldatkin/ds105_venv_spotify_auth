{
 "cells": [
  {
   "cell_type": "markdown",
   "metadata": {},
   "source": [
    "# `NB02`: Data Cleaning"
   ]
  },
  {
   "cell_type": "code",
   "execution_count": 42,
   "metadata": {},
   "outputs": [],
   "source": [
    "import pandas as pd\n",
    "import sqlite3\n",
    "import os"
   ]
  },
  {
   "cell_type": "code",
   "execution_count": 43,
   "metadata": {},
   "outputs": [],
   "source": [
    "df = pd.read_json('../data/raw/albums.jsonl', lines=True)"
   ]
  },
  {
   "cell_type": "markdown",
   "metadata": {},
   "source": [
    "# `explode()` or `json_normalize()` + concat/merge as needed"
   ]
  },
  {
   "cell_type": "code",
   "execution_count": 44,
   "metadata": {},
   "outputs": [],
   "source": [
    "df = df.explode('artists')"
   ]
  },
  {
   "cell_type": "code",
   "execution_count": 45,
   "metadata": {},
   "outputs": [
    {
     "name": "stdout",
     "output_type": "stream",
     "text": [
      "Index(['album_type', 'total_tracks', 'available_markets', 'external_urls',\n",
      "       'href', 'id', 'images', 'name', 'release_date',\n",
      "       'release_date_precision', 'type', 'uri', 'artists', 'tracks',\n",
      "       'copyrights', 'external_ids', 'genres', 'label', 'popularity'],\n",
      "      dtype='object')\n"
     ]
    },
    {
     "data": {
      "text/html": [
       "<div>\n",
       "<style scoped>\n",
       "    .dataframe tbody tr th:only-of-type {\n",
       "        vertical-align: middle;\n",
       "    }\n",
       "\n",
       "    .dataframe tbody tr th {\n",
       "        vertical-align: top;\n",
       "    }\n",
       "\n",
       "    .dataframe thead th {\n",
       "        text-align: right;\n",
       "    }\n",
       "</style>\n",
       "<table border=\"1\" class=\"dataframe\">\n",
       "  <thead>\n",
       "    <tr style=\"text-align: right;\">\n",
       "      <th></th>\n",
       "      <th>album_type</th>\n",
       "      <th>total_tracks</th>\n",
       "      <th>available_markets</th>\n",
       "      <th>external_urls</th>\n",
       "      <th>href</th>\n",
       "      <th>id</th>\n",
       "      <th>images</th>\n",
       "      <th>name</th>\n",
       "      <th>release_date</th>\n",
       "      <th>release_date_precision</th>\n",
       "      <th>type</th>\n",
       "      <th>uri</th>\n",
       "      <th>artists</th>\n",
       "      <th>tracks</th>\n",
       "      <th>copyrights</th>\n",
       "      <th>external_ids</th>\n",
       "      <th>genres</th>\n",
       "      <th>label</th>\n",
       "      <th>popularity</th>\n",
       "    </tr>\n",
       "  </thead>\n",
       "  <tbody>\n",
       "    <tr>\n",
       "      <th>0</th>\n",
       "      <td>album</td>\n",
       "      <td>15</td>\n",
       "      <td>[AR, AU, AT, BE, BO, BR, BG, CA, CL, CO, CR, C...</td>\n",
       "      <td>{'spotify': 'https://open.spotify.com/album/38...</td>\n",
       "      <td>https://api.spotify.com/v1/albums/382ObEPsp2rx...</td>\n",
       "      <td>382ObEPsp2rxGrnsizN5TX</td>\n",
       "      <td>[{'url': 'https://i.scdn.co/image/ab67616d0000...</td>\n",
       "      <td>TRON: Legacy Reconfigured</td>\n",
       "      <td>2011-01-01</td>\n",
       "      <td>day</td>\n",
       "      <td>album</td>\n",
       "      <td>spotify:album:382ObEPsp2rxGrnsizN5TX</td>\n",
       "      <td>{'external_urls': {'spotify': 'https://open.sp...</td>\n",
       "      <td>{'href': 'https://api.spotify.com/v1/albums/38...</td>\n",
       "      <td>[{'text': '© 2011 Disney', 'type': 'C'}, {'tex...</td>\n",
       "      <td>{'upc': '00050087239633'}</td>\n",
       "      <td>[]</td>\n",
       "      <td>Walt Disney Records</td>\n",
       "      <td>50</td>\n",
       "    </tr>\n",
       "    <tr>\n",
       "      <th>1</th>\n",
       "      <td>album</td>\n",
       "      <td>18</td>\n",
       "      <td>[AT, BE, BG, CY, CZ, DE, EE, FI, FR, GR, HU, I...</td>\n",
       "      <td>{'spotify': 'https://open.spotify.com/album/4a...</td>\n",
       "      <td>https://api.spotify.com/v1/albums/4aawyAB9vmqN...</td>\n",
       "      <td>4aawyAB9vmqN3uQ7FjRGTy</td>\n",
       "      <td>[{'url': 'https://i.scdn.co/image/ab67616d0000...</td>\n",
       "      <td>Global Warming</td>\n",
       "      <td>2012-11-16</td>\n",
       "      <td>day</td>\n",
       "      <td>album</td>\n",
       "      <td>spotify:album:4aawyAB9vmqN3uQ7FjRGTy</td>\n",
       "      <td>{'external_urls': {'spotify': 'https://open.sp...</td>\n",
       "      <td>{'href': 'https://api.spotify.com/v1/albums/4a...</td>\n",
       "      <td>[{'text': '(P) 2012 RCA Records, a division of...</td>\n",
       "      <td>{'upc': '886443671584'}</td>\n",
       "      <td>[]</td>\n",
       "      <td>Mr.305/Polo Grounds Music/RCA Records</td>\n",
       "      <td>56</td>\n",
       "    </tr>\n",
       "  </tbody>\n",
       "</table>\n",
       "</div>"
      ],
      "text/plain": [
       "  album_type  total_tracks                                  available_markets  \\\n",
       "0      album            15  [AR, AU, AT, BE, BO, BR, BG, CA, CL, CO, CR, C...   \n",
       "1      album            18  [AT, BE, BG, CY, CZ, DE, EE, FI, FR, GR, HU, I...   \n",
       "\n",
       "                                       external_urls  \\\n",
       "0  {'spotify': 'https://open.spotify.com/album/38...   \n",
       "1  {'spotify': 'https://open.spotify.com/album/4a...   \n",
       "\n",
       "                                                href                      id  \\\n",
       "0  https://api.spotify.com/v1/albums/382ObEPsp2rx...  382ObEPsp2rxGrnsizN5TX   \n",
       "1  https://api.spotify.com/v1/albums/4aawyAB9vmqN...  4aawyAB9vmqN3uQ7FjRGTy   \n",
       "\n",
       "                                              images  \\\n",
       "0  [{'url': 'https://i.scdn.co/image/ab67616d0000...   \n",
       "1  [{'url': 'https://i.scdn.co/image/ab67616d0000...   \n",
       "\n",
       "                        name release_date release_date_precision   type  \\\n",
       "0  TRON: Legacy Reconfigured   2011-01-01                    day  album   \n",
       "1             Global Warming   2012-11-16                    day  album   \n",
       "\n",
       "                                    uri  \\\n",
       "0  spotify:album:382ObEPsp2rxGrnsizN5TX   \n",
       "1  spotify:album:4aawyAB9vmqN3uQ7FjRGTy   \n",
       "\n",
       "                                             artists  \\\n",
       "0  {'external_urls': {'spotify': 'https://open.sp...   \n",
       "1  {'external_urls': {'spotify': 'https://open.sp...   \n",
       "\n",
       "                                              tracks  \\\n",
       "0  {'href': 'https://api.spotify.com/v1/albums/38...   \n",
       "1  {'href': 'https://api.spotify.com/v1/albums/4a...   \n",
       "\n",
       "                                          copyrights  \\\n",
       "0  [{'text': '© 2011 Disney', 'type': 'C'}, {'tex...   \n",
       "1  [{'text': '(P) 2012 RCA Records, a division of...   \n",
       "\n",
       "                external_ids genres                                  label  \\\n",
       "0  {'upc': '00050087239633'}     []                    Walt Disney Records   \n",
       "1    {'upc': '886443671584'}     []  Mr.305/Polo Grounds Music/RCA Records   \n",
       "\n",
       "   popularity  \n",
       "0          50  \n",
       "1          56  "
      ]
     },
     "metadata": {},
     "output_type": "display_data"
    }
   ],
   "source": [
    "print(df.columns)\n",
    "display(df.head())"
   ]
  },
  {
   "cell_type": "code",
   "execution_count": 46,
   "metadata": {},
   "outputs": [],
   "source": [
    "df = df.explode('available_markets').drop(columns=['external_urls', 'images', 'external_ids', 'tracks', 'copyrights'])"
   ]
  },
  {
   "cell_type": "code",
   "execution_count": 47,
   "metadata": {},
   "outputs": [],
   "source": [
    "df = (\n",
    "    pd.json_normalize(df['artists']) \n",
    "    .merge(df, left_index=True, right_index=True, suffixes=('_artist', '')) \n",
    "    .drop(columns=['artists'])\n",
    ")"
   ]
  },
  {
   "cell_type": "markdown",
   "metadata": {},
   "source": [
    "# Save separate tables to SQL database"
   ]
  },
  {
   "cell_type": "code",
   "execution_count": 48,
   "metadata": {},
   "outputs": [],
   "source": [
    "# create a db with the columns as in df\n",
    "os.makedirs('../data/processed', exist_ok=True)\n",
    "\n",
    "conn = sqlite3.connect('../data/processed/albums.db')"
   ]
  },
  {
   "cell_type": "code",
   "execution_count": null,
   "metadata": {},
   "outputs": [],
   "source": [
    "# write the data to the database -- MAKE SURE THE DF IS FLATTENED\n",
    "# df.to_sql('albums', conn, if_exists='replace', index=False)"
   ]
  },
  {
   "cell_type": "code",
   "execution_count": null,
   "metadata": {},
   "outputs": [],
   "source": []
  }
 ],
 "metadata": {
  "kernelspec": {
   "display_name": "venv",
   "language": "python",
   "name": "python3"
  },
  "language_info": {
   "codemirror_mode": {
    "name": "ipython",
    "version": 3
   },
   "file_extension": ".py",
   "mimetype": "text/x-python",
   "name": "python",
   "nbconvert_exporter": "python",
   "pygments_lexer": "ipython3",
   "version": "3.9.19"
  }
 },
 "nbformat": 4,
 "nbformat_minor": 2
}
